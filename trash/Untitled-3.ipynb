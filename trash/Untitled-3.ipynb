{
 "cells": [
  {
   "cell_type": "code",
   "execution_count": 1,
   "metadata": {},
   "outputs": [],
   "source": [
    "import numpy as np\n",
    "import matplotlib.pyplot as plt\n",
    "from scipy.integrate import quad\n",
    "from local_util import gen_H, timer"
   ]
  },
  {
   "cell_type": "code",
   "execution_count": 5,
   "metadata": {},
   "outputs": [],
   "source": [
    "@timer\n",
    "def foo1(N, L):\n",
    "    for k in range(L):\n",
    "        res = np.zeros((N, N))\n",
    "        for i in range(N):\n",
    "            res += np.diag([N-i]*(N-i), i)\n",
    "    return res\n",
    "@timer\n",
    "def foo2(N, L):\n",
    "    for k in range(L):\n",
    "        res = np.zeros((N, N))\n",
    "        for i in range(N):\n",
    "            for j in range(N-i):\n",
    "                res[j, j+i] = N-i\n",
    "    return res"
   ]
  },
  {
   "cell_type": "code",
   "execution_count": 10,
   "metadata": {},
   "outputs": [
    {
     "name": "stdout",
     "output_type": "stream",
     "text": [
      "Finished 'foo1' in 1.4564 secs\n",
      "Finished 'foo2' in 0.0531 secs\n",
      "a\n"
     ]
    }
   ],
   "source": [
    "N = 1000\n",
    "L = 1\n",
    "foo1(N, L)\n",
    "foo2(N, L)\n",
    "print('a')"
   ]
  },
  {
   "cell_type": "code",
   "execution_count": 11,
   "metadata": {},
   "outputs": [
    {
     "name": "stdout",
     "output_type": "stream",
     "text": [
      "Finished 'foo1' in 0.0021 secs\n",
      "Finished 'foo2' in 0.0005 secs\n",
      "a\n"
     ]
    }
   ],
   "source": [
    "N = 100\n",
    "L = 1\n",
    "foo1(N, L)\n",
    "foo2(N, L)\n",
    "print('a')"
   ]
  },
  {
   "cell_type": "code",
   "execution_count": 16,
   "metadata": {},
   "outputs": [
    {
     "name": "stdout",
     "output_type": "stream",
     "text": [
      "Finished 'foo2' in 5.6683 secs\n",
      "a\n"
     ]
    }
   ],
   "source": [
    "N = 10000\n",
    "L = 1\n",
    "# foo1(N, L)\n",
    "foo2(N, L)\n",
    "print('a')"
   ]
  },
  {
   "cell_type": "code",
   "execution_count": 17,
   "metadata": {},
   "outputs": [
    {
     "data": {
      "text/plain": [
       "[0, 1, 2]"
      ]
     },
     "execution_count": 17,
     "metadata": {},
     "output_type": "execute_result"
    }
   ],
   "source": [
    "list(range(3))"
   ]
  },
  {
   "cell_type": "code",
   "execution_count": 19,
   "metadata": {},
   "outputs": [
    {
     "name": "stdout",
     "output_type": "stream",
     "text": [
      "{'a': 1, 'b': 2}\n"
     ]
    }
   ],
   "source": [
    "def add(**kwargs):\n",
    "    print(kwargs)\n",
    "    \n",
    "\n",
    "add(a=1, b=2)"
   ]
  },
  {
   "cell_type": "code",
   "execution_count": null,
   "metadata": {},
   "outputs": [],
   "source": []
  }
 ],
 "metadata": {
  "kernelspec": {
   "display_name": "sci",
   "language": "python",
   "name": "python3"
  },
  "language_info": {
   "codemirror_mode": {
    "name": "ipython",
    "version": 3
   },
   "file_extension": ".py",
   "mimetype": "text/x-python",
   "name": "python",
   "nbconvert_exporter": "python",
   "pygments_lexer": "ipython3",
   "version": "3.10.13"
  }
 },
 "nbformat": 4,
 "nbformat_minor": 2
}
